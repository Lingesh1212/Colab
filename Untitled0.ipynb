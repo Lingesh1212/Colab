{
  "nbformat": 4,
  "nbformat_minor": 0,
  "metadata": {
    "colab": {
      "provenance": [],
      "authorship_tag": "ABX9TyP37RWLmPnd7BlZNc2XBkoz",
      "include_colab_link": true
    },
    "kernelspec": {
      "name": "python3",
      "display_name": "Python 3"
    },
    "language_info": {
      "name": "python"
    }
  },
  "cells": [
    {
      "cell_type": "markdown",
      "metadata": {
        "id": "view-in-github",
        "colab_type": "text"
      },
      "source": [
        "<a href=\"https://colab.research.google.com/github/Lingesh1212/Colab/blob/main/Untitled0.ipynb\" target=\"_parent\"><img src=\"https://colab.research.google.com/assets/colab-badge.svg\" alt=\"Open In Colab\"/></a>"
      ]
    },
    {
      "cell_type": "code",
      "execution_count": null,
      "metadata": {
        "colab": {
          "base_uri": "https://localhost:8080/"
        },
        "id": "oDi08JgCuQix",
        "outputId": "6811375f-0be0-4368-a9f5-b2924aac0bf4"
      },
      "outputs": [
        {
          "output_type": "stream",
          "name": "stdout",
          "text": [
            "Enter a number: 56\n",
            "more than 50\n"
          ]
        }
      ],
      "source": [
        "#switchcode\n",
        "\n",
        "x=int(input('Enter a number: '))\n",
        "\n",
        "if x>10:\n",
        "  if x>50:\n",
        "      print(\"more than 50\")\n",
        "  else:\n",
        "    print(\"More than 10\")\n",
        "else:\n",
        "  print(\"less than 10\")"
      ]
    },
    {
      "cell_type": "code",
      "source": [
        "\n",
        "# sq=(i*i for i in range(10))\n",
        "# for i in sq:\n",
        "#   print(i)\n",
        "\n",
        "x=int(input('Enter a number: '))\n",
        "x=x*x\n",
        "print(x)"
      ],
      "metadata": {
        "colab": {
          "base_uri": "https://localhost:8080/"
        },
        "id": "tlZm_2ctwo0B",
        "outputId": "65b7a992-8c57-47d5-edbe-f0099448b7fd"
      },
      "execution_count": null,
      "outputs": [
        {
          "output_type": "stream",
          "name": "stdout",
          "text": [
            "Enter a number: 55\n",
            "3025\n"
          ]
        }
      ]
    }
  ]
}