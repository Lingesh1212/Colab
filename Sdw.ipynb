{
  "nbformat": 4,
  "nbformat_minor": 0,
  "metadata": {
    "colab": {
      "provenance": [],
      "authorship_tag": "ABX9TyNjonjenjaX0p7EGlV4qVv1",
      "include_colab_link": true
    },
    "kernelspec": {
      "name": "python3",
      "display_name": "Python 3"
    },
    "language_info": {
      "name": "python"
    }
  },
  "cells": [
    {
      "cell_type": "markdown",
      "metadata": {
        "id": "view-in-github",
        "colab_type": "text"
      },
      "source": [
        "<a href=\"https://colab.research.google.com/github/Lingesh1212/Colab/blob/main/Sdw.ipynb\" target=\"_parent\"><img src=\"https://colab.research.google.com/assets/colab-badge.svg\" alt=\"Open In Colab\"/></a>"
      ]
    },
    {
      "cell_type": "code",
      "execution_count": null,
      "metadata": {
        "colab": {
          "base_uri": "https://localhost:8080/"
        },
        "id": "oDi08JgCuQix",
        "outputId": "6811375f-0be0-4368-a9f5-b2924aac0bf4"
      },
      "outputs": [
        {
          "output_type": "stream",
          "name": "stdout",
          "text": [
            "Enter a number: 56\n",
            "more than 50\n"
          ]
        }
      ],
      "source": [
        "#switchcode\n",
        "\n",
        "x=int(input('Enter a number: '))\n",
        "\n",
        "if x>10:\n",
        "  if x>50:\n",
        "      print(\"more than 50\")\n",
        "  else:\n",
        "    print(\"More than 10\")\n",
        "else:\n",
        "  print(\"less than 10\")"
      ]
    },
    {
      "cell_type": "code",
      "source": [
        "\n",
        "# sq=(i*i for i in range(10))\n",
        "# for i in sq:\n",
        "#   print(i)\n",
        "\n",
        "x=int(input('Enter a number: '))\n",
        "x=x*x\n",
        "print(x)"
      ],
      "metadata": {
        "colab": {
          "base_uri": "https://localhost:8080/"
        },
        "id": "tlZm_2ctwo0B",
        "outputId": "65b7a992-8c57-47d5-edbe-f0099448b7fd"
      },
      "execution_count": null,
      "outputs": [
        {
          "output_type": "stream",
          "name": "stdout",
          "text": [
            "Enter a number: 55\n",
            "3025\n"
          ]
        }
      ]
    },
    {
      "cell_type": "code",
      "source": [
        "#functions\n",
        "\n",
        "\n",
        "x=int(input('Enter a number: '))\n",
        "y=int(input('Enter a number: '))\n",
        "\n",
        "def add(x, y):\n",
        "    return x + y\n",
        "\n",
        "def calculate(func, x, y):\n",
        "    return func(x, y)\n",
        "\n",
        "result = calculate(add, x, y)\n",
        "print(result)"
      ],
      "metadata": {
        "colab": {
          "base_uri": "https://localhost:8080/"
        },
        "id": "_4f69Hb-4NRf",
        "outputId": "1187b7c8-d94f-423b-f7e7-fb998d20fa2b"
      },
      "execution_count": 11,
      "outputs": [
        {
          "output_type": "stream",
          "name": "stdout",
          "text": [
            "Enter a number: 20\n",
            "Enter a number: 80\n",
            "100\n"
          ]
        }
      ]
    }
  ]
}